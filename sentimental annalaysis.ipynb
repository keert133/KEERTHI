{
 "cells": [
  {
   "cell_type": "code",
   "execution_count": null,
   "id": "e3050b50",
   "metadata": {},
   "outputs": [],
   "source": [
    " Import necessary libraries\n",
    "import nltk\n",
    "from nltk.corpus import stopwords\n",
    "from nltk.tokenize import word_tokenize\n",
    "from nltk.stem import PorterStemmer, WordNetLemmatizer\n",
    "from textblob import TextBlob"
   ]
  },
  {
   "cell_type": "code",
   "execution_count": null,
   "id": "205ed67f",
   "metadata": {},
   "outputs": [],
   "source": [
    "nltk.download('punkt')\n",
    "nltk.download('stopwords')\n",
    "nltk.download('averaged_perceptron_tagger')\n",
    "nltk.download('wordent')\n"
   ]
  },
  {
   "cell_type": "code",
   "execution_count": null,
   "id": "073aa5cf",
   "metadata": {},
   "outputs": [],
   "source": [
    "text=\"the product is not good\""
   ]
  },
  {
   "cell_type": "code",
   "execution_count": null,
   "id": "708cdf4c",
   "metadata": {},
   "outputs": [],
   "source": [
    "tokens= word_tokenize(text)\n",
    "print(\"tokens:\", tokens)"
   ]
  },
  {
   "cell_type": "code",
   "execution_count": null,
   "id": "253933dc",
   "metadata": {},
   "outputs": [],
   "source": [
    "stop_words = set(stopwords.words('english'))\n",
    "filtered_tokens = [word for word in tokens if word.lower()not in stop_words]\n",
    "print(\"Filtered Tokens:\", filtered_tokens)"
   ]
  },
  {
   "cell_type": "code",
   "execution_count": null,
   "id": "2b4674eb",
   "metadata": {},
   "outputs": [],
   "source": [
    "stop_words = set(stopwords.words('english'))\n",
    "filtered_tokens = [word for word in tokens if word.lower()not in stop_words]\n",
    "print(\"Filtered Tokens:\", filtered_tokens)"
   ]
  },
  {
   "cell_type": "code",
   "execution_count": null,
   "id": "1283a5ef",
   "metadata": {},
   "outputs": [],
   "source": [
    "lemmatizer = WordNetLemmatizer()\n",
    "lemmatized_tokens = [lemmatizer.lemmatize(word) for word in filtered_tokens]\n",
    "print(\"Lemmatized Tokens:\", lemmatized_tokens)"
   ]
  },
  {
   "cell_type": "code",
   "execution_count": null,
   "id": "68e1428a",
   "metadata": {},
   "outputs": [],
   "source": [
    "pos_tags = nltk.pos_tag(filtered_tokens)\n",
    "print(\"POS Tags:\", pos_tags)"
   ]
  },
  {
   "cell_type": "code",
   "execution_count": null,
   "id": "1b25393d",
   "metadata": {},
   "outputs": [],
   "source": [
    "blob = TextBlob(text)\n",
    "polarity = blob.sentiment.polarity\n"
   ]
  },
  {
   "cell_type": "code",
   "execution_count": null,
   "id": "4ce0f57a",
   "metadata": {},
   "outputs": [],
   "source": [
    "if polarity > 0:\n",
    "    sentiment_label = \"Positive\"\n",
    "elif polarity < 0:\n",
    "    sentiment_label =\"Negative\"\n",
    "else:\n",
    "    sentiment_label = \"neutral\"\n",
    "    \n",
    "print(f\"Sentiment: {sentiment_label}\")"
   ]
  }
 ],
 "metadata": {
  "kernelspec": {
   "display_name": "Python 3 (ipykernel)",
   "language": "python",
   "name": "python3"
  },
  "language_info": {
   "codemirror_mode": {
    "name": "ipython",
    "version": 3
   },
   "file_extension": ".py",
   "mimetype": "text/x-python",
   "name": "python",
   "nbconvert_exporter": "python",
   "pygments_lexer": "ipython3",
   "version": "3.9.7"
  }
 },
 "nbformat": 4,
 "nbformat_minor": 5
}
