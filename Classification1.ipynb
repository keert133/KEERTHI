{
 "cells": [
  {
   "cell_type": "code",
   "execution_count": 19,
   "id": "59d0a2d8",
   "metadata": {},
   "outputs": [],
   "source": [
    "import pandas as pd\n",
    "from sklearn.model_selection import train_test_split\n",
    "from sklearn.svm import SVC\n",
    "# land the iris dataset\n",
    "df=pd.read_csv('iris.csv')"
   ]
  },
  {
   "cell_type": "code",
   "execution_count": 20,
   "id": "b89fb592",
   "metadata": {},
   "outputs": [],
   "source": [
    "#split the data into features and labels\n",
    "X= df[['SepalLengthCm','SepalWidthCm','PetalLengthCm','PetalWidthCm']]\n",
    "y= df['Species']\n",
    "# split the data into training and tasting sets\n",
    "x_train, x_test, y_train, y_test = train_test_split(X,y,test_size=0.2,random_state=42)\n",
    "       \n",
    "    "
   ]
  },
  {
   "cell_type": "code",
   "execution_count": 21,
   "id": "5d6836eb",
   "metadata": {},
   "outputs": [
    {
     "name": "stdout",
     "output_type": "stream",
     "text": [
      "test accuracy: 1.0\n"
     ]
    }
   ],
   "source": [
    "# create an SVM modal and train it\n",
    "model = SVC()\n",
    "model.fit(x_train, y_train)\n",
    "# Evaluate the model on yhe test data\n",
    "accuracy = model.score(x_test,y_test)\n",
    "print('test accuracy:', accuracy)"
   ]
  }
 ],
 "metadata": {
  "kernelspec": {
   "display_name": "Python 3 (ipykernel)",
   "language": "python",
   "name": "python3"
  },
  "language_info": {
   "codemirror_mode": {
    "name": "ipython",
    "version": 3
   },
   "file_extension": ".py",
   "mimetype": "text/x-python",
   "name": "python",
   "nbconvert_exporter": "python",
   "pygments_lexer": "ipython3",
   "version": "3.9.7"
  }
 },
 "nbformat": 4,
 "nbformat_minor": 5
}
